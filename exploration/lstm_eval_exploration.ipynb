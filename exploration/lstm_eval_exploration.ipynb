{
 "cells": [
  {
   "cell_type": "markdown",
   "metadata": {},
   "source": [
    "# LSTM model evalutation exploration, updates"
   ]
  },
  {
   "cell_type": "code",
   "execution_count": 1,
   "metadata": {},
   "outputs": [
    {
     "name": "stderr",
     "output_type": "stream",
     "text": [
      "Using TensorFlow backend.\n"
     ]
    }
   ],
   "source": [
    "import os\n",
    "import sys\n",
    "import numpy as np\n",
    "import pprint\n",
    "import pickle as pkl\n",
    "from sklearn.metrics import roc_auc_score, precision_recall_curve, auc, roc_curve\n",
    "\n",
    "%matplotlib inline\n",
    "import matplotlib.pyplot as plt\n",
    "\n",
    "sys.path.append(os.path.join(os.getenv('HOME')\n",
    "                             , 'nu'\n",
    "                             , 'jiping_research'\n",
    "                             , 'nuclstm'\n",
    "                             , 'nuclstm'))\n",
    "\n",
    "from keras.models import load_model\n",
    "from loaders import *\n",
    "from train import *\n",
    "from utils import *\n",
    "from preprocessors import *\n",
    "from evaluation import *"
   ]
  },
  {
   "cell_type": "code",
   "execution_count": 6,
   "metadata": {},
   "outputs": [
    {
     "name": "stdout",
     "output_type": "stream",
     "text": [
      "Model configuration:\n",
      "{'data_params': {'batch_size': 128,\n",
      "                 'lookback': 1000,\n",
      "                 'no_one_class_samples': False,\n",
      "                 'output_len': 1000,\n",
      "                 'shuffle': False,\n",
      "                 'shuffle_between': False,\n",
      "                 'step_size': 1000,\n",
      "                 'target_position': 'all'},\n",
      " 'model_params': {'class_weight': None,\n",
      "                  'dense_params': {'activation': 'sigmoid',\n",
      "                                   'hidden_units': 1,\n",
      "                                   'regularization': {0: 0.0},\n",
      "                                   'timedistributed': True},\n",
      "                  'early_stopping': 3,\n",
      "                  'epochs': 1000,\n",
      "                  'final_layer_activation': 'sigmoid',\n",
      "                  'rnn_params': {'activation': 'tanh',\n",
      "                                 'bidirectional': True,\n",
      "                                 'dropout': {0: 0.2, 1: 0.2},\n",
      "                                 'flavor': 'gru',\n",
      "                                 'hidden_units': [64, 16],\n",
      "                                 'recurrent_dropout': {0: 0.2, 1: 0.2},\n",
      "                                 'regularization': {0: 0.01, 1: 0.01},\n",
      "                                 'stateful': True},\n",
      "                  'steps_per_epoch': 25,\n",
      "                  'target': 'nucleosome',\n",
      "                  'validation_steps': 25,\n",
      "                  'xtra_metric': 'acc'},\n",
      " 'optimizer_params': {'loss': 'binary_crossentropy',\n",
      "                      'optimizer': <keras.optimizers.Adam object at 0x191f37278>},\n",
      " 'postprocessor_params': {'ncp_location': {'min_max': 0.0, 'min_nuc_sep': 107}},\n",
      " 'preprocessor_params': {'target': {'method': 'pad',\n",
      "                                    'pad_len': 10,\n",
      "                                    'smooth_window': None,\n",
      "                                    'smooth_window_len': None}},\n",
      " 'run_params': {'binary': True,\n",
      "                'model_name': 'gru_binary_sequence',\n",
      "                'model_type': 'rnn'}}\n",
      "\n",
      "\n",
      "Model architecture:\n",
      "_________________________________________________________________\n",
      "Layer (type)                 Output Shape              Param #   \n",
      "=================================================================\n",
      "bidirectional_1 (Bidirection (128, 1000, 128)          26496     \n",
      "_________________________________________________________________\n",
      "bidirectional_2 (Bidirection (128, 1000, 64)           30912     \n",
      "_________________________________________________________________\n",
      "time_distributed_1 (TimeDist (128, 1000, 1)            65        \n",
      "=================================================================\n",
      "Total params: 57,473\n",
      "Trainable params: 57,473\n",
      "Non-trainable params: 0\n",
      "_________________________________________________________________\n"
     ]
    }
   ],
   "source": [
    "data_dir = os.path.join(os.getenv('HOME'), 'nu/jiping_research/data')\n",
    "data_file = 'seq_ncp_positions_unique_map.feather'\n",
    "model_dir = '../model_output/gru_binary_sequence__052818_144741'\n",
    "config_file = '../nuclstm/model_configs/gru_binary_sequence_config.json'\n",
    "model_file = 'model_epoch_711.h5'\n",
    "# model_dir = '../model_output/lstm_binary_sequence__050618_095517/'\n",
    "# config_file = '../nuclstm/model_configs/lstm_binary_sequence_config.json'\n",
    "# model_file = 'model_epoch_1999.h5'\n",
    "\n",
    "train_chroms = [1, 2, 3, 4, 5]\n",
    "test_chroms = [7, 8]\n",
    "all_chroms = train_chroms + test_chroms\n",
    "\n",
    "loader = NcpLoader(data_dir)\n",
    "nuc_df = loader.load(data_file\n",
    "                     , chromosomes=all_chroms)\n",
    "\n",
    "params = ConfigLoader(config_file).load()\n",
    "\n",
    "print('Model configuration:')\n",
    "pprint.pprint(params)\n",
    "m = load_model(os.path.join(model_dir, model_file))\n",
    "\n",
    "print('\\n\\nModel architecture:')\n",
    "m.summary()"
   ]
  },
  {
   "cell_type": "code",
   "execution_count": 3,
   "metadata": {},
   "outputs": [
    {
     "name": "stdout",
     "output_type": "stream",
     "text": [
      "Class balance of nucleosome vector pre-processing: 0.5612038620321292\n",
      "Class balance of nucleosome vector post-processing: 11.785281102674713\n"
     ]
    },
    {
     "data": {
      "image/png": "[encoded data removed]",
      "text/plain": [
       "<matplotlib.figure.Figure at 0x10c8bf4e0>"
      ]
     },
     "metadata": {},
     "output_type": "display_data"
    },
    {
     "data": {
      "image/png": "[encoded data removed]",
      "text/plain": [
       "<matplotlib.figure.Figure at 0x133cee550>"
      ]
     },
     "metadata": {},
     "output_type": "display_data"
    }
   ],
   "source": [
    "print('Class balance of nucleosome vector pre-processing: {0}'\n",
    "      .format(nuc_df['nucleosome'].mean()*100))\n",
    "\n",
    "nuc_df = preprocess_by_chromosome(nuc_df\n",
    "                                  , target=params['model_params']['target']\n",
    "                                  , method=params['preprocessor_params']['target']['method']\n",
    "                                  , pad_len=params['preprocessor_params']['target']['pad_len'])\n",
    "TARGET = 'nucleosome_padded'\n",
    "\n",
    "# plot distribution of padded NCP map\n",
    "nuc_df[TARGET].hist(figsize=(7, 5))\n",
    "plt.suptitle('Histogram: NCP distribution with unique nucleosome map +/- ' + \n",
    "             str(params['preprocessor_params']['target']['pad_len']) + '-padding')\n",
    "\n",
    "# plot original NCP map and padded map\n",
    "fig = plt.figure(figsize=(7, 5))\n",
    "plt.plot(np.arange(0, 2000), nuc_df['nucleosome'].iloc[0:2000], 'b-', label='Original')\n",
    "plt.plot(np.arange(0, 2000, ), nuc_df[TARGET].iloc[0:2000], 'r-', label='Padded')\n",
    "plt.title('Example unique map NCP with ' + str(params['preprocessor_params']['target']['pad_len']) + '-padding')\n",
    "plt.legend(loc='upper right')\n",
    "plt.xlabel('Chr I base index')\n",
    "\n",
    "print('Class balance of nucleosome vector post-processing: {0}'\n",
    "      .format(nuc_df[TARGET].mean()*100))"
   ]
  },
  {
   "cell_type": "code",
   "execution_count": null,
   "metadata": {
    "collapsed": true,
    "scrolled": true
   },
   "outputs": [],
   "source": [
    "from IPython.display import Image\n",
    "Image(os.path.join(model_dir, 'training_progress.png'))"
   ]
  },
  {
   "cell_type": "markdown",
   "metadata": {},
   "source": [
    "## Evaluation: performance on a held-out chromosome - Chr VII and VIII\n",
    "\n",
    "In the code below, we iterate over 10 batches of data from a hold-out chromosome. Each batch contains 128 consecutive 1000-base scans of the chromosome, and each scan is run through the model. So, each scan results in predicted probabilities for 1000 base positions. 100 batches will give us 10 x 128 x 1000 = 1,280,000 base index positions. Again, the output is on a probability scale.\n",
    "\n",
    "We can evaluate this model using traditional binary classification metrics such as ROC AUC, precision and recall, etc., in addition to simply plotting predicted probability and actual 0/1 nucleosome position occupancy as a function of base position. The plots below are randomly sampled sections across chromosomes VII and VIII with their predicted probability of NCP proximity."
   ]
  },
  {
   "cell_type": "code",
   "execution_count": 4,
   "metadata": {},
   "outputs": [
    {
     "name": "stdout",
     "output_type": "stream",
     "text": [
      "Test set composition:\n",
      "(array([ 0.,  1.]), array([112481,  15519]))\n"
     ]
    }
   ],
   "source": [
    "# test_gen = gen_seq_scans(loader.subset_to_chromosomes(nuc_df, test_chroms)\n",
    "test_gen = gen_seq_scans(loader.subset_to_chromosomes(nuc_df, test_chroms[0])\n",
    "                         , lookback=params['data_params']['lookback']\n",
    "                         , batch_size=params['data_params']['batch_size']\n",
    "                         , target=TARGET\n",
    "                         , target_position=params['data_params']['target_position']\n",
    "                         , shuffle=False\n",
    "                         , step_size=params['data_params']['lookback']\n",
    "                         , flatten_final_target_dim=False\n",
    "                         , no_one_class_samples=False\n",
    "                         , testing=True)\n",
    "\n",
    "y_test, y_preds, y_idx = extract_preds_from_generator(test_gen\n",
    "                                                      , model=m\n",
    "                                                      , n_pos=50000)\n",
    "\n",
    "tab = np.unique(y_test, return_counts=True)\n",
    "print('Test set composition:')\n",
    "print(tab)"
   ]
  },
  {
   "cell_type": "code",
   "execution_count": null,
   "metadata": {
    "collapsed": true
   },
   "outputs": [],
   "source": [
    "start = 6000\n",
    "base_step = 20000\n",
    "\n",
    "plot_genome_predictions(y_test\n",
    "                        , preds=y_preds\n",
    "                        , start=start\n",
    "                        , base_step=base_step\n",
    "                        , fname=os.path.join(model_dir, 'preds_plot.png'))"
   ]
  },
  {
   "cell_type": "code",
   "execution_count": null,
   "metadata": {
    "collapsed": true
   },
   "outputs": [],
   "source": [
    "pr_plot(y_test\n",
    "        , preds=y_preds\n",
    "        , verbose=False\n",
    "        , fname=os.path.join(model_dir, 'precision_recall.png'))"
   ]
  },
  {
   "cell_type": "code",
   "execution_count": null,
   "metadata": {
    "collapsed": true
   },
   "outputs": [],
   "source": [
    "roc_plot(y_test\n",
    "         , preds=y_preds\n",
    "         , verbose=False\n",
    "         , fname=os.path.join(model_dir, 'roc.png'))"
   ]
  },
  {
   "cell_type": "code",
   "execution_count": null,
   "metadata": {
    "collapsed": true
   },
   "outputs": [],
   "source": [
    "pd.set_option('display.max_rows', 500)\n",
    "\n",
    "chr7_df = loader.subset_to_chromosomes(nuc_df, chromosomes=7)\n",
    "\n",
    "\n",
    "preds_df = pd.DataFrame({'preds': y_preds})\n",
    "\n",
    "# preds_sum is supposed to act like occupancy probability. How to normalize though?\n",
    "preds_df['preds_sum'] = preds_df['preds'].rolling(window=params['preprocessor_params']['target']['pad_len']*2 + 147\n",
    "                                                  , center=True\n",
    "                                                  , min_periods=params['preprocessor_params']['target']['pad_len']*2 + 147).sum()\n",
    "preds_df['preds_smoothed'] = smooth_signal(preds_df['preds'].values\n",
    "                                           , smooth_window_len=147\n",
    "                                           , smooth_window='hanning')\n",
    "ncpnoise_smoothed = smooth_signal(chr7_df['NCP/noise'].values[0:preds_df.shape[0]]\n",
    "                                  , smooth_window_len=147\n",
    "                                  , smooth_window='hanning')\n",
    "\n",
    "fig, axes = plt.subplots(2, 2, figsize=[14, 10])\n",
    "axes[0, 0].plot(preds_df['preds'].iloc[0:2000], 'r-')\n",
    "axes[0, 0].plot(y_test[0:2000], 'b-')\n",
    "axes[0, 0].plot(chr7_df['NCP/noise'].values[0:2000], 'g-')\n",
    "\n",
    "axes[0, 1].plot(preds_df['preds'].iloc[0:2000], 'r-')\n",
    "axes[0, 1].plot(preds_df['preds_smoothed'].iloc[0:2000], 'm-')\n",
    "axes[0, 1].plot(y_test[0:2000], 'b-')\n",
    "\n",
    "axes[1, 0].plot(y_test[0:2000], 'b-')\n",
    "axes[1, 0].plot(chr7_df['NCP/noise'].values[0:2000], 'g-')\n",
    "axes[1, 0].plot(preds_df['preds_smoothed'].iloc[0:2000], 'm-')\n",
    "\n",
    "max_scale = np.nanmax(preds_df['preds_sum'].values[0:2000])\n",
    "min_scale = np.nanmin(preds_df['preds_sum'].values[0:2000])\n",
    "axes[1, 1].plot(preds_df['preds_sum'].values[0:2000], 'r-')\n",
    "axes[1, 1].plot(y_test[0:2000]*np.nanmax(preds_df['preds_sum'].values[0:2000]), 'b-')\n",
    "axes[1, 1].plot(((ncpnoise_smoothed[0:2000] - np.min(ncpnoise_smoothed[0:2000]))/\n",
    "                (np.max(ncpnoise_smoothed[0:2000]) - np.min(ncpnoise_smoothed[0:2000])))*max_scale, 'g-')"
   ]
  },
  {
   "cell_type": "code",
   "execution_count": 5,
   "metadata": {},
   "outputs": [
    {
     "name": "stderr",
     "output_type": "stream",
     "text": [
      "/Users/fineiskid/anaconda3/envs/py36/lib/python3.6/site-packages/pandas/core/indexing.py:357: SettingWithCopyWarning: \n",
      "A value is trying to be set on a copy of a slice from a DataFrame.\n",
      "Try using .loc[row_indexer,col_indexer] = value instead\n",
      "\n",
      "See the caveats in the documentation: http://pandas.pydata.org/pandas-docs/stable/indexing.html#indexing-view-versus-copy\n",
      "  self.obj[key] = _infer_fill_value(value)\n",
      "/Users/fineiskid/anaconda3/envs/py36/lib/python3.6/site-packages/pandas/core/indexing.py:537: SettingWithCopyWarning: \n",
      "A value is trying to be set on a copy of a slice from a DataFrame.\n",
      "Try using .loc[row_indexer,col_indexer] = value instead\n",
      "\n",
      "See the caveats in the documentation: http://pandas.pydata.org/pandas-docs/stable/indexing.html#indexing-view-versus-copy\n",
      "  self.obj[item] = s\n"
     ]
    }
   ],
   "source": [
    "from postprocessors import *\n",
    "\n",
    "test_df = loader.subset_to_chromosomes(nuc_df, test_chroms[0])\n",
    "test_df.head()\n",
    "\n",
    "preds_df = DataFrame({'nuclstm_preds': y_preds\n",
    "                              , 'idx': y_idx})\n",
    "preds_df.drop_duplicates(subset=['idx']\n",
    "                         , inplace=True)\n",
    "\n",
    "test_df.loc[:, 'idx'] = list(range(test_df.shape[0]))\n",
    "test_df = test_df.merge(preds_df\n",
    "                        , on=['idx'])\n",
    "test_df.drop(['idx']\n",
    "             , axis=1\n",
    "             , inplace=True)\n",
    "\n",
    "test_df = locate_nucleosome_centers(test_df\n",
    "                                    , pred_col='nuclstm_preds'\n",
    "                                    , min_sep=127\n",
    "                                   , min_max=0.5)\n",
    "\n",
    "test_df = preprocess_by_chromosome(test_df\n",
    "                                  , target='NCP/noise'\n",
    "                                  , method='smooth'\n",
    "                                  , smooth_window_len=147\n",
    "                                  , smooth_window='hanning')"
   ]
  },
  {
   "cell_type": "code",
   "execution_count": 14,
   "metadata": {},
   "outputs": [
    {
     "data": {
      "text/plain": [
       "[<matplotlib.lines.Line2D at 0x12aeead30>]"
      ]
     },
     "execution_count": 14,
     "metadata": {},
     "output_type": "execute_result"
    },
    {
     "data": {
      "image/png": "[encoded data removed]",
      "text/plain": [
       "<matplotlib.figure.Figure at 0x12aeb1588>"
      ]
     },
     "metadata": {},
     "output_type": "display_data"
    }
   ],
   "source": [
    "fig, axes = plt.subplots(1, 1, figsize=[10, 10])\n",
    "axes.plot(test_df['nuclstm_preds'].iloc[0:2000], 'r-')\n",
    "axes.plot(test_df['nucleosome_padded'].iloc[0:2000], 'b-')\n",
    "axes.plot(test_df['NCP/noise_smoothed'].iloc[0:2000], 'y--')\n",
    "axes.plot(test_df['nuclstm_preds_smoothed'].iloc[0:2000], 'm-')\n",
    "axes.plot(test_df['nuclstm_ncp'].iloc[0:2000], 'g-')"
   ]
  },
  {
   "cell_type": "code",
   "execution_count": 49,
   "metadata": {},
   "outputs": [
    {
     "name": "stdout",
     "output_type": "stream",
     "text": [
      "Nuclstm number of nucleosomes: 5171\n",
      "NuPoP number of nucleosomes: 4736\n",
      "Unique map number of nucleosomes: 6099.0\n"
     ]
    }
   ],
   "source": [
    "df = pd.read_csv('/Users/fineiskid/nu/jiping_research/model_output/testing/gru_binary_sequence__051618_224741/test_data_chr_7.csv')\n",
    "n_nupop_nucs = df['nupop_ncp'].sum()\n",
    "n_nuclstm_nucs = df['nuclstm_ncp'].sum()\n",
    "n_nucs = df['nucleosome'].sum()\n",
    "\n",
    "print('Nuclstm number of nucleosomes: {0}'.format(n_nuclstm_nucs))\n",
    "print('NuPoP number of nucleosomes: {0}'.format(n_nupop_nucs))\n",
    "print('Unique map number of nucleosomes: {0}'.format(n_nucs))"
   ]
  },
  {
   "cell_type": "code",
   "execution_count": 79,
   "metadata": {},
   "outputs": [
    {
     "name": "stdout",
     "output_type": "stream",
     "text": [
      "_________________________________________________________________\n",
      "Layer (type)                 Output Shape              Param #   \n",
      "=================================================================\n",
      "lstm_10 (LSTM)               (128, 10, 32)             4736      \n",
      "_________________________________________________________________\n",
      "time_distributed_6 (TimeDist (128, 10, 1)              33        \n",
      "=================================================================\n",
      "Total params: 4,769\n",
      "Trainable params: 4,769\n",
      "Non-trainable params: 0\n",
      "_________________________________________________________________\n"
     ]
    }
   ],
   "source": [
    "from keras.models import Sequential\n",
    "from keras import optimizers, initializers, regularizers\n",
    "from keras.layers import *\n",
    "\n",
    "mdl = Sequential()\n",
    "mdl.add(LSTM(32\n",
    "             , dropout=0.2\n",
    "             , recurrent_dropout=0.2\n",
    "             , batch_input_shape=(128, 10, 4)\n",
    "            , return_sequences=True\n",
    "            , kernel_regularizer=regularizers.l1(0.002)))\n",
    "\n",
    "mdl.add(TimeDistributed(Dense(1\n",
    "                              , activation='sigmoid'\n",
    "                              , use_bias=True\n",
    "                             , kernel_regularizer=regularizers.l1(0.002))))\n",
    "mdl.compile(loss='binary_crossentropy', optimizer=optimizers.Adam())\n",
    "mdl.summary()\n"
   ]
  },
  {
   "cell_type": "code",
   "execution_count": 9,
   "metadata": {},
   "outputs": [],
   "source": [
    "test_chrom = 9\n",
    "test_df = pd.read_csv(os.path.join(model_dir, 'test_data_chr_' + str(test_chrom) + '.csv'))"
   ]
  },
  {
   "cell_type": "code",
   "execution_count": 19,
   "metadata": {},
   "outputs": [
    {
     "data": {
      "text/html": [
       "<div>\n",
       "<style scoped>\n",
       "    .dataframe tbody tr th:only-of-type {\n",
       "        vertical-align: middle;\n",
       "    }\n",
       "\n",
       "    .dataframe tbody tr th {\n",
       "        vertical-align: top;\n",
       "    }\n",
       "\n",
       "    .dataframe thead th {\n",
       "        text-align: right;\n",
       "    }\n",
       "</style>\n",
       "<table border=\"1\" class=\"dataframe\">\n",
       "  <thead>\n",
       "    <tr style=\"text-align: right;\">\n",
       "      <th></th>\n",
       "      <th>Chr</th>\n",
       "      <th>pos</th>\n",
       "      <th>seq</th>\n",
       "      <th>Watson</th>\n",
       "      <th>Crick</th>\n",
       "      <th>NCP</th>\n",
       "      <th>NCP/noise</th>\n",
       "      <th>nucleosome</th>\n",
       "      <th>nucleosome_padded</th>\n",
       "      <th>nuclstm_preds</th>\n",
       "      <th>NCP/noise_smoothed</th>\n",
       "      <th>nuclstm_preds_smoothed</th>\n",
       "      <th>nuclstm_ncp</th>\n",
       "      <th>P-start</th>\n",
       "      <th>Occup</th>\n",
       "      <th>N/L</th>\n",
       "      <th>Affinity</th>\n",
       "      <th>nupop_ncp</th>\n",
       "    </tr>\n",
       "  </thead>\n",
       "  <tbody>\n",
       "    <tr>\n",
       "      <th>0</th>\n",
       "      <td>chrIX</td>\n",
       "      <td>1</td>\n",
       "      <td>C</td>\n",
       "      <td>28.0</td>\n",
       "      <td>0.0</td>\n",
       "      <td>0.0</td>\n",
       "      <td>0.0</td>\n",
       "      <td>0.0</td>\n",
       "      <td>0.0</td>\n",
       "      <td>0.114660</td>\n",
       "      <td>0.147030</td>\n",
       "      <td>0.271533</td>\n",
       "      <td>0</td>\n",
       "      <td>0.000</td>\n",
       "      <td>0.000</td>\n",
       "      <td>0</td>\n",
       "      <td>NaN</td>\n",
       "      <td>0</td>\n",
       "    </tr>\n",
       "    <tr>\n",
       "      <th>1</th>\n",
       "      <td>chrIX</td>\n",
       "      <td>2</td>\n",
       "      <td>A</td>\n",
       "      <td>11.0</td>\n",
       "      <td>0.0</td>\n",
       "      <td>0.0</td>\n",
       "      <td>0.0</td>\n",
       "      <td>0.0</td>\n",
       "      <td>0.0</td>\n",
       "      <td>0.140967</td>\n",
       "      <td>0.146978</td>\n",
       "      <td>0.271522</td>\n",
       "      <td>0</td>\n",
       "      <td>0.031</td>\n",
       "      <td>0.031</td>\n",
       "      <td>0</td>\n",
       "      <td>NaN</td>\n",
       "      <td>0</td>\n",
       "    </tr>\n",
       "    <tr>\n",
       "      <th>2</th>\n",
       "      <td>chrIX</td>\n",
       "      <td>3</td>\n",
       "      <td>C</td>\n",
       "      <td>12.0</td>\n",
       "      <td>0.0</td>\n",
       "      <td>0.0</td>\n",
       "      <td>0.0</td>\n",
       "      <td>0.0</td>\n",
       "      <td>0.0</td>\n",
       "      <td>0.135353</td>\n",
       "      <td>0.146823</td>\n",
       "      <td>0.271486</td>\n",
       "      <td>0</td>\n",
       "      <td>0.006</td>\n",
       "      <td>0.038</td>\n",
       "      <td>0</td>\n",
       "      <td>NaN</td>\n",
       "      <td>0</td>\n",
       "    </tr>\n",
       "    <tr>\n",
       "      <th>3</th>\n",
       "      <td>chrIX</td>\n",
       "      <td>4</td>\n",
       "      <td>A</td>\n",
       "      <td>5.0</td>\n",
       "      <td>0.0</td>\n",
       "      <td>0.0</td>\n",
       "      <td>0.0</td>\n",
       "      <td>0.0</td>\n",
       "      <td>0.0</td>\n",
       "      <td>0.150397</td>\n",
       "      <td>0.146566</td>\n",
       "      <td>0.271427</td>\n",
       "      <td>0</td>\n",
       "      <td>0.026</td>\n",
       "      <td>0.063</td>\n",
       "      <td>0</td>\n",
       "      <td>NaN</td>\n",
       "      <td>0</td>\n",
       "    </tr>\n",
       "    <tr>\n",
       "      <th>4</th>\n",
       "      <td>chrIX</td>\n",
       "      <td>5</td>\n",
       "      <td>C</td>\n",
       "      <td>17.0</td>\n",
       "      <td>0.0</td>\n",
       "      <td>0.0</td>\n",
       "      <td>0.0</td>\n",
       "      <td>0.0</td>\n",
       "      <td>0.0</td>\n",
       "      <td>0.156569</td>\n",
       "      <td>0.146205</td>\n",
       "      <td>0.271344</td>\n",
       "      <td>0</td>\n",
       "      <td>0.001</td>\n",
       "      <td>0.065</td>\n",
       "      <td>0</td>\n",
       "      <td>NaN</td>\n",
       "      <td>0</td>\n",
       "    </tr>\n",
       "  </tbody>\n",
       "</table>\n",
       "</div>"
      ],
      "text/plain": [
       "     Chr  pos seq  Watson  Crick  NCP  NCP/noise  nucleosome  \\\n",
       "0  chrIX    1   C    28.0    0.0  0.0        0.0         0.0   \n",
       "1  chrIX    2   A    11.0    0.0  0.0        0.0         0.0   \n",
       "2  chrIX    3   C    12.0    0.0  0.0        0.0         0.0   \n",
       "3  chrIX    4   A     5.0    0.0  0.0        0.0         0.0   \n",
       "4  chrIX    5   C    17.0    0.0  0.0        0.0         0.0   \n",
       "\n",
       "   nucleosome_padded  nuclstm_preds  NCP/noise_smoothed  \\\n",
       "0                0.0       0.114660            0.147030   \n",
       "1                0.0       0.140967            0.146978   \n",
       "2                0.0       0.135353            0.146823   \n",
       "3                0.0       0.150397            0.146566   \n",
       "4                0.0       0.156569            0.146205   \n",
       "\n",
       "   nuclstm_preds_smoothed  nuclstm_ncp  P-start  Occup  N/L  Affinity  \\\n",
       "0                0.271533            0    0.000  0.000    0       NaN   \n",
       "1                0.271522            0    0.031  0.031    0       NaN   \n",
       "2                0.271486            0    0.006  0.038    0       NaN   \n",
       "3                0.271427            0    0.026  0.063    0       NaN   \n",
       "4                0.271344            0    0.001  0.065    0       NaN   \n",
       "\n",
       "   nupop_ncp  \n",
       "0          0  \n",
       "1          0  \n",
       "2          0  \n",
       "3          0  \n",
       "4          0  "
      ]
     },
     "execution_count": 19,
     "metadata": {},
     "output_type": "execute_result"
    }
   ],
   "source": [
    "test_df[['Chr', 'pos', 'nuclstm_preds_smoothed']].to_csv(os.path.join(model_dir, 'gbrowser', 'chr_9_nuclstm_preds.txt')\n",
    "                                                        , sep = ' '\n",
    "                                                        , header = None\n",
    "                                                        , index = None)"
   ]
  },
  {
   "cell_type": "code",
   "execution_count": null,
   "metadata": {
    "collapsed": true
   },
   "outputs": [],
   "source": []
  }
 ],
 "metadata": {
  "kernelspec": {
   "display_name": "Python 3",
   "language": "python",
   "name": "python3"
  },
  "language_info": {
   "codemirror_mode": {
    "name": "ipython",
    "version": 3
   },
   "file_extension": ".py",
   "mimetype": "text/x-python",
   "name": "python",
   "nbconvert_exporter": "python",
   "pygments_lexer": "ipython3",
   "version": "3.6.3"
  }
 },
 "nbformat": 4,
 "nbformat_minor": 2
}
